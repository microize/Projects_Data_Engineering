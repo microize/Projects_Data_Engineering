{
  "nbformat": 4,
  "nbformat_minor": 0,
  "metadata": {
    "colab": {
      "name": "av_jobathon_data_eng_ecommerce_jul_4.ipynb",
      "provenance": [],
      "collapsed_sections": [],
      "mount_file_id": "1Q5Rit_1hZgkD2E2MkpQcR6XQaLeJaX66",
      "authorship_tag": "ABX9TyMJB/hhuBp4v63KgG5jS6As",
      "include_colab_link": true
    },
    "kernelspec": {
      "display_name": "Python 3",
      "name": "python3"
    },
    "language_info": {
      "name": "python"
    }
  },
  "cells": [
    {
      "cell_type": "markdown",
      "metadata": {
        "id": "view-in-github",
        "colab_type": "text"
      },
      "source": [
        "<a href=\"https://colab.research.google.com/github/microize/Hackathons/blob/main/av_jobathon_data_eng_ecommerce_jul_4.ipynb\" target=\"_parent\"><img src=\"https://colab.research.google.com/assets/colab-badge.svg\" alt=\"Open In Colab\"/></a>"
      ]
    },
    {
      "cell_type": "markdown",
      "metadata": {
        "id": "x9tQP-PrGj9s"
      },
      "source": [
        "# Business Problem"
      ]
    },
    {
      "cell_type": "markdown",
      "metadata": {
        "id": "jDiGebBxG32n"
      },
      "source": [
        "## Problem statement  \n",
        "\n",
        "Your Client ComZ is an ecommerce company. The company wants to focus on targeting the right customers  with the right products to increase overall revenue and conversion rate.\n",
        "\n",
        "To target the right customers with the right products, they need to build an ML model for marketing based on user interaction with products in the past like number of views,  most viewed product, number of activities of user, vintage of user and others. \n",
        "\n",
        "ComZ has contacted the Data Science and Engineering team to use this information to fuel the personalized advertisements, email marketing campaigns, or special offers on the landing and category pages of the company's website.\n",
        "\n",
        "You, being a part of the data engineering team, are expected to “Develop input features”  for the efficient marketing model given the Visitor log data and User Data."
      ]
    },
    {
      "cell_type": "markdown",
      "metadata": {
        "id": "HqrE_lmTHACd"
      },
      "source": [
        "## Task\n",
        "Need to Create ETL Pipeline "
      ]
    },
    {
      "cell_type": "markdown",
      "metadata": {
        "id": "6v-iZUQEHV7_"
      },
      "source": [
        "## Link\n",
        "\n",
        "Hackathon Link : \n",
        "https://datahack.analyticsvidhya.com/contest/job-a-thon-june-2021/#ProblemStatement"
      ]
    },
    {
      "cell_type": "markdown",
      "metadata": {
        "id": "rmXHgNqkHl-J"
      },
      "source": [
        "# Data"
      ]
    },
    {
      "cell_type": "code",
      "metadata": {
        "id": "FV1FZ-4a-mxe"
      },
      "source": [
        "# importing required Libraries\n",
        "import numpy as np\n",
        "import pandas as pd\n",
        "import matplotlib.pyplot as plt\n",
        "import seaborn as sns\n",
        "\n",
        "from datetime import datetime\n",
        "from datetime import date\n",
        "from datetime import timedelta\n",
        "\n",
        "pd.set_option('display.max_rows',None)\n",
        "pd.set_option('display.max_columns',None)\n",
        "\n",
        "import warnings\n",
        "warnings.filterwarnings('ignore')"
      ],
      "execution_count": null,
      "outputs": []
    },
    {
      "cell_type": "code",
      "metadata": {
        "id": "T5ELy7s-_Wx5"
      },
      "source": [
        "# importing data\n",
        "visitor_logs = pd.read_csv('/content/drive/MyDrive/Data-colab/av_jobathon_data_engineer_ecommerce_etl_4_jul_21/VisitorLogsData.csv')\n",
        "user_table = pd.read_csv('/content/drive/MyDrive/Data-colab/av_jobathon_data_engineer_ecommerce_etl_4_jul_21/userTable.csv')\n",
        "sample_submission =pd.read_csv('/content/drive/MyDrive/Data-colab/av_jobathon_data_engineer_ecommerce_etl_4_jul_21/sample_submission_M7Vpb9f.csv')"
      ],
      "execution_count": null,
      "outputs": []
    },
    {
      "cell_type": "markdown",
      "metadata": {
        "id": "2I6GijGcH-qg"
      },
      "source": [
        "## Data Overview\n",
        "\n",
        "### **Visitor Log Data** – It is a browsing log data of all the visitors and the users. This table contains the following information:\n",
        "\n",
        "* WebClientID - Unique ID of browser for every system. (If a visitor is using multiple browsers on a system like Chrome, Safari, then there would be a different web clientid for each browser). The ID remains consistent unless the user clears their cookie.\n",
        "\n",
        "* VisitDateTime - Date and time of visit. There are two different formats for DateTime.( One is in datetime format “2018-05-07 04:28:45.970”\n",
        "Another one is in unix datetime format “1527051855673000000”)\n",
        "\n",
        "* ProductID - Unique ID of product browsed/ clicked by the visitor\n",
        "\n",
        "* UserID - Unique ID of the registered user. As expected, this is available for registered users only, not for all visitors. \n",
        "\n",
        "* Activity - \n",
        "Type of activity can be browsing (pageload) or clicking a product\n",
        "\n",
        "* Browser - \n",
        "Browser used by the visitor\n",
        "\n",
        "* OS - Operating System of the system used by the visitor\n",
        "\n",
        "* City - City of the visitor\n",
        "\n",
        "* Country - Country of the visitor\n",
        "\n",
        "\n",
        "\n",
        "### User Data – It has registered user information like signup date and segment.\n",
        "\n",
        "* UserID - \n",
        "Unique ID of the registered user.\n",
        "\n",
        "* Signup Date - \n",
        "Date of registration for the user\n",
        "\n",
        "* User Segment -\n",
        "User Segment (A/B/C) created based on historical engagement\n",
        "\n",
        "Now based on the above two tables, you need to create an input feature set for the Marketing Model.\n"
      ]
    },
    {
      "cell_type": "markdown",
      "metadata": {
        "id": "7t3cna-LJLCx"
      },
      "source": [
        "### Input Feature table:\n",
        "\n",
        "* UserID -\n",
        "Unique ID of the registered user\n",
        "\n",
        "* No_of_days_Visited_7_Days -\n",
        "How many days a user was active on platform in the last 7 days.\n",
        "\n",
        "* No_Of_Products_Viewed_15_Days -\n",
        "Number of Products viewed by the user in the last 15 days\n",
        "\n",
        "* User_Vintage -\n",
        "Vintage (In Days) of the user as of today\n",
        "\n",
        "* Most_Viewed_product_15_Days -\n",
        "Most frequently viewed (page loads) product by the user in the last 15 days. If there are multiple products that have a similar number of page loads then , consider the recent one. If a user has not viewed any product in the last 15 days then put it as Product101. \n",
        "\n",
        "* Most_Active_OS -\n",
        "Most Frequently used OS by user. \n",
        "\n",
        "* Recently_Viewed_Product -\n",
        "Most recently viewed (page loads) product by the user. ( If a user has not viewed any product then put it as Product101. )\n",
        "\n",
        "* Pageloads_last_7_days -\n",
        "Count of Page loads in the last 7 days by the user\n",
        "\n",
        "* Clicks_last_7_days -\n",
        "Count of Clicks in the last 7 days  by the user"
      ]
    },
    {
      "cell_type": "markdown",
      "metadata": {
        "id": "Nv3noKBMJpHc"
      },
      "source": [
        "## Process to create Input Feature:\n",
        "\n",
        "When ComZ does a targeting campaign, It follows the below process. \n",
        "\n",
        "\n",
        "\n",
        "In the current case, you are supposed to generate an input feature set as on 28-May-2018. So, the visitor table is from 07-May-2018 to 27-May-2018.\n",
        "\n",
        "As a Data Engineer Creating ETL Pipeline would definitely be appreciated and provide you the added advantage in interviews, Your effort should be to build ETL Pipeline such that passing the information of user data and log data, It can generate the input feature table automatically"
      ]
    },
    {
      "cell_type": "markdown",
      "metadata": {
        "id": "_gZCBzIMJx58"
      },
      "source": [
        "## Example Data Points"
      ]
    },
    {
      "cell_type": "code",
      "metadata": {
        "id": "_WMm68UV_n5K",
        "colab": {
          "base_uri": "https://localhost:8080/",
          "height": 106
        },
        "outputId": "d164981a-3634-475f-9f54-b2e31f897502"
      },
      "source": [
        "visitor_logs.head(2)"
      ],
      "execution_count": null,
      "outputs": [
        {
          "output_type": "execute_result",
          "data": {
            "text/html": [
              "<div>\n",
              "<style scoped>\n",
              "    .dataframe tbody tr th:only-of-type {\n",
              "        vertical-align: middle;\n",
              "    }\n",
              "\n",
              "    .dataframe tbody tr th {\n",
              "        vertical-align: top;\n",
              "    }\n",
              "\n",
              "    .dataframe thead th {\n",
              "        text-align: right;\n",
              "    }\n",
              "</style>\n",
              "<table border=\"1\" class=\"dataframe\">\n",
              "  <thead>\n",
              "    <tr style=\"text-align: right;\">\n",
              "      <th></th>\n",
              "      <th>webClientID</th>\n",
              "      <th>VisitDateTime</th>\n",
              "      <th>ProductID</th>\n",
              "      <th>UserID</th>\n",
              "      <th>Activity</th>\n",
              "      <th>Browser</th>\n",
              "      <th>OS</th>\n",
              "      <th>City</th>\n",
              "      <th>Country</th>\n",
              "    </tr>\n",
              "  </thead>\n",
              "  <tbody>\n",
              "    <tr>\n",
              "      <th>0</th>\n",
              "      <td>WI10000050298</td>\n",
              "      <td>2018-05-07 04:28:45.970</td>\n",
              "      <td>pr100631</td>\n",
              "      <td>NaN</td>\n",
              "      <td>NaN</td>\n",
              "      <td>Chrome Mobile</td>\n",
              "      <td>Android</td>\n",
              "      <td>Chennai</td>\n",
              "      <td>India</td>\n",
              "    </tr>\n",
              "    <tr>\n",
              "      <th>1</th>\n",
              "      <td>WI10000025922</td>\n",
              "      <td>2018-05-13 07:26:04.964</td>\n",
              "      <td>pr100707</td>\n",
              "      <td>NaN</td>\n",
              "      <td>NaN</td>\n",
              "      <td>Chrome</td>\n",
              "      <td>Windows</td>\n",
              "      <td>NaN</td>\n",
              "      <td>Taiwan</td>\n",
              "    </tr>\n",
              "  </tbody>\n",
              "</table>\n",
              "</div>"
            ],
            "text/plain": [
              "     webClientID            VisitDateTime ProductID UserID Activity  \\\n",
              "0  WI10000050298  2018-05-07 04:28:45.970  pr100631    NaN      NaN   \n",
              "1  WI10000025922  2018-05-13 07:26:04.964  pr100707    NaN      NaN   \n",
              "\n",
              "         Browser       OS     City Country  \n",
              "0  Chrome Mobile  Android  Chennai   India  \n",
              "1         Chrome  Windows      NaN  Taiwan  "
            ]
          },
          "metadata": {
            "tags": []
          },
          "execution_count": 42
        }
      ]
    },
    {
      "cell_type": "code",
      "metadata": {
        "id": "jhhWsuGJ_rrf",
        "colab": {
          "base_uri": "https://localhost:8080/",
          "height": 106
        },
        "outputId": "7b987174-e583-449c-ddfc-4c7a1f0df423"
      },
      "source": [
        "user_table.head(2)"
      ],
      "execution_count": null,
      "outputs": [
        {
          "output_type": "execute_result",
          "data": {
            "text/html": [
              "<div>\n",
              "<style scoped>\n",
              "    .dataframe tbody tr th:only-of-type {\n",
              "        vertical-align: middle;\n",
              "    }\n",
              "\n",
              "    .dataframe tbody tr th {\n",
              "        vertical-align: top;\n",
              "    }\n",
              "\n",
              "    .dataframe thead th {\n",
              "        text-align: right;\n",
              "    }\n",
              "</style>\n",
              "<table border=\"1\" class=\"dataframe\">\n",
              "  <thead>\n",
              "    <tr style=\"text-align: right;\">\n",
              "      <th></th>\n",
              "      <th>UserID</th>\n",
              "      <th>Signup Date</th>\n",
              "      <th>User Segment</th>\n",
              "    </tr>\n",
              "  </thead>\n",
              "  <tbody>\n",
              "    <tr>\n",
              "      <th>0</th>\n",
              "      <td>U133159</td>\n",
              "      <td>2018-04-14 07:01:16.202607+00:00</td>\n",
              "      <td>C</td>\n",
              "    </tr>\n",
              "    <tr>\n",
              "      <th>1</th>\n",
              "      <td>U129368</td>\n",
              "      <td>2017-12-02 09:38:41.584270+00:00</td>\n",
              "      <td>B</td>\n",
              "    </tr>\n",
              "  </tbody>\n",
              "</table>\n",
              "</div>"
            ],
            "text/plain": [
              "    UserID                       Signup Date User Segment\n",
              "0  U133159  2018-04-14 07:01:16.202607+00:00            C\n",
              "1  U129368  2017-12-02 09:38:41.584270+00:00            B"
            ]
          },
          "metadata": {
            "tags": []
          },
          "execution_count": 43
        }
      ]
    },
    {
      "cell_type": "code",
      "metadata": {
        "id": "lQ5ycAzBBjE6",
        "colab": {
          "base_uri": "https://localhost:8080/",
          "height": 126
        },
        "outputId": "9c91e0b9-97e7-4925-eb37-e20f6f6b88f2"
      },
      "source": [
        "sample_submission.head(2)"
      ],
      "execution_count": null,
      "outputs": [
        {
          "output_type": "execute_result",
          "data": {
            "text/html": [
              "<div>\n",
              "<style scoped>\n",
              "    .dataframe tbody tr th:only-of-type {\n",
              "        vertical-align: middle;\n",
              "    }\n",
              "\n",
              "    .dataframe tbody tr th {\n",
              "        vertical-align: top;\n",
              "    }\n",
              "\n",
              "    .dataframe thead th {\n",
              "        text-align: right;\n",
              "    }\n",
              "</style>\n",
              "<table border=\"1\" class=\"dataframe\">\n",
              "  <thead>\n",
              "    <tr style=\"text-align: right;\">\n",
              "      <th></th>\n",
              "      <th>UserID</th>\n",
              "      <th>No_of_days_Visited_7_Days</th>\n",
              "      <th>No_Of_Products_Viewed_15_Days</th>\n",
              "      <th>User_Vintage</th>\n",
              "      <th>Most_Viewed_product_15_Days</th>\n",
              "      <th>Most_Active_OS</th>\n",
              "      <th>Recently_Viewed_Product</th>\n",
              "      <th>Pageloads_last_7_days</th>\n",
              "      <th>Clicks_last_7_days</th>\n",
              "    </tr>\n",
              "  </thead>\n",
              "  <tbody>\n",
              "    <tr>\n",
              "      <th>0</th>\n",
              "      <td>U100002</td>\n",
              "      <td>1</td>\n",
              "      <td>1</td>\n",
              "      <td>1</td>\n",
              "      <td>P12345</td>\n",
              "      <td>OS12345</td>\n",
              "      <td>P12345</td>\n",
              "      <td>1</td>\n",
              "      <td>1</td>\n",
              "    </tr>\n",
              "    <tr>\n",
              "      <th>1</th>\n",
              "      <td>U100003</td>\n",
              "      <td>1</td>\n",
              "      <td>1</td>\n",
              "      <td>1</td>\n",
              "      <td>P12345</td>\n",
              "      <td>OS12345</td>\n",
              "      <td>P12345</td>\n",
              "      <td>1</td>\n",
              "      <td>1</td>\n",
              "    </tr>\n",
              "  </tbody>\n",
              "</table>\n",
              "</div>"
            ],
            "text/plain": [
              "    UserID  No_of_days_Visited_7_Days  No_Of_Products_Viewed_15_Days  \\\n",
              "0  U100002                          1                              1   \n",
              "1  U100003                          1                              1   \n",
              "\n",
              "   User_Vintage Most_Viewed_product_15_Days Most_Active_OS  \\\n",
              "0             1                      P12345        OS12345   \n",
              "1             1                      P12345        OS12345   \n",
              "\n",
              "  Recently_Viewed_Product  Pageloads_last_7_days  Clicks_last_7_days  \n",
              "0                  P12345                      1                   1  \n",
              "1                  P12345                      1                   1  "
            ]
          },
          "metadata": {
            "tags": []
          },
          "execution_count": 44
        }
      ]
    },
    {
      "cell_type": "markdown",
      "metadata": {
        "id": "9H3O-2HxJ5cW"
      },
      "source": [
        "# EDA"
      ]
    },
    {
      "cell_type": "code",
      "metadata": {
        "id": "GcZH1IXnCmvM",
        "colab": {
          "base_uri": "https://localhost:8080/"
        },
        "outputId": "4faa7c62-84bc-4813-8062-02b78507ee6a"
      },
      "source": [
        "visitor_logs.info()"
      ],
      "execution_count": null,
      "outputs": [
        {
          "output_type": "stream",
          "text": [
            "<class 'pandas.core.frame.DataFrame'>\n",
            "RangeIndex: 6588000 entries, 0 to 6587999\n",
            "Data columns (total 9 columns):\n",
            " #   Column         Dtype \n",
            "---  ------         ----- \n",
            " 0   webClientID    object\n",
            " 1   VisitDateTime  object\n",
            " 2   ProductID      object\n",
            " 3   UserID         object\n",
            " 4   Activity       object\n",
            " 5   Browser        object\n",
            " 6   OS             object\n",
            " 7   City           object\n",
            " 8   Country        object\n",
            "dtypes: object(9)\n",
            "memory usage: 452.4+ MB\n"
          ],
          "name": "stdout"
        }
      ]
    },
    {
      "cell_type": "code",
      "metadata": {
        "id": "MT98bJe4iOSt",
        "colab": {
          "base_uri": "https://localhost:8080/"
        },
        "outputId": "a6dde6ca-e31e-44ca-b470-497ba59dbae9"
      },
      "source": [
        "user_table.info()"
      ],
      "execution_count": null,
      "outputs": [
        {
          "output_type": "stream",
          "text": [
            "<class 'pandas.core.frame.DataFrame'>\n",
            "RangeIndex: 34050 entries, 0 to 34049\n",
            "Data columns (total 3 columns):\n",
            " #   Column        Non-Null Count  Dtype \n",
            "---  ------        --------------  ----- \n",
            " 0   UserID        34050 non-null  object\n",
            " 1   Signup Date   34050 non-null  object\n",
            " 2   User Segment  34050 non-null  object\n",
            "dtypes: object(3)\n",
            "memory usage: 798.2+ KB\n"
          ],
          "name": "stdout"
        }
      ]
    },
    {
      "cell_type": "code",
      "metadata": {
        "id": "af4J3s3VKzo1",
        "colab": {
          "base_uri": "https://localhost:8080/"
        },
        "outputId": "8f2e1b0d-f8a0-43ec-bc90-d6942bd1d177"
      },
      "source": [
        "visitor_logs.duplicated().sum()"
      ],
      "execution_count": null,
      "outputs": [
        {
          "output_type": "execute_result",
          "data": {
            "text/plain": [
              "560745"
            ]
          },
          "metadata": {
            "tags": []
          },
          "execution_count": 47
        }
      ]
    },
    {
      "cell_type": "code",
      "metadata": {
        "id": "s7KsNu9kK2mc",
        "colab": {
          "base_uri": "https://localhost:8080/"
        },
        "outputId": "2a0b16f5-eb0f-47d7-e989-15dbb5033792"
      },
      "source": [
        "user_table.duplicated().sum()"
      ],
      "execution_count": null,
      "outputs": [
        {
          "output_type": "execute_result",
          "data": {
            "text/plain": [
              "0"
            ]
          },
          "metadata": {
            "tags": []
          },
          "execution_count": 48
        }
      ]
    },
    {
      "cell_type": "code",
      "metadata": {
        "id": "bpuZXQBviDVT",
        "colab": {
          "base_uri": "https://localhost:8080/"
        },
        "outputId": "9a4f9d84-4bc3-47c0-f0cf-6a174e7fadd3"
      },
      "source": [
        "print(\"Visitor_logs:\",visitor_logs.shape)\n",
        "print(\"user_table:\",user_table.shape)"
      ],
      "execution_count": null,
      "outputs": [
        {
          "output_type": "stream",
          "text": [
            "Visitor_logs: (6588000, 9)\n",
            "user_table: (34050, 3)\n"
          ],
          "name": "stdout"
        }
      ]
    },
    {
      "cell_type": "markdown",
      "metadata": {
        "id": "44YQx8k9if1X"
      },
      "source": [
        "## EDA - observations\n",
        "* Visitor_logs shape 6588000 rows.\n",
        "* User_table shape 34050 rows.\n",
        "* In Visitor_logs & User_table has incorrect datatypes.\n",
        "* \"VisitDateTime\" has mixed datetime format “2018-05-07 04:28:45.970”   & “1527051855673000000” - Need to convert unix time stamp to datetime format\n",
        "* 560745 - duplicate rows are in Visitors_logs - Need to drop them\n",
        "* Our campign is only for registered user. So we need to drop rows without \"UserID\""
      ]
    },
    {
      "cell_type": "markdown",
      "metadata": {
        "id": "_i24GnExLtz2"
      },
      "source": [
        "# ETL Pipeline"
      ]
    },
    {
      "cell_type": "code",
      "metadata": {
        "id": "bp4L_O2UZ0_c"
      },
      "source": [
        ""
      ],
      "execution_count": null,
      "outputs": []
    },
    {
      "cell_type": "code",
      "metadata": {
        "id": "ZWGTDnnBLp_h"
      },
      "source": [
        "def ETL_pipeline(visit,user,a,b,c):\n",
        "\n",
        "  final = sample_submission.copy()\n",
        "\n",
        "  \"\"\"Most_Active_OS\"\"\"\n",
        "\n",
        "  os_df = visit.groupby(['UserID','OS'])['webClientID'].count().unstack()\n",
        "  os_df['most_used'] = os_df.idxmax(axis=1)\n",
        "  os_df=os_df['most_used']\n",
        "  last_15_day_max_os = pd.DataFrame(os_df.reset_index())\n",
        "  final = final.merge(last_15_day_max_os,how='left',left_on='UserID',right_on='UserID')\n",
        "\n",
        "  # Dropping rows without UserID\n",
        "  visit.dropna(subset=['UserID'],inplace=True)\n",
        "\n",
        "  # Dropping duplicates\n",
        "  visit.drop_duplicates(inplace=True)\n",
        "\n",
        "  # filling missing value \n",
        "  visit['VisitDateTime']=visit['VisitDateTime'].fillna(datetime(a,b,c))\n",
        "\n",
        "  # converting string to uppercase - to avoid inconsistency\n",
        "  visit['ProductID']=visit['ProductID'].str.upper()\n",
        "  visit['UserID']=visit['UserID'].str.upper()\n",
        "  visit['Activity']=visit['Activity'].str.upper()\n",
        "  visit['Browser']=visit['Browser'].str.upper()\n",
        "  visit['OS']=visit['OS'].str.upper()\n",
        "  visit['City']=visit['City'].str.upper()\n",
        "  visit['Country']=visit['Country'].str.upper()\n",
        "\n",
        "  # separating Unix timestamp\n",
        "  visit['UnixTimeStamp'] = visit['VisitDateTime'].str.find(':')\n",
        "  visit['UnixTimeStamp'] = visit['UnixTimeStamp'].apply(lambda x: 1 if x<=0 else 0)\n",
        "  unix_visitor_logs = visit[visit['UnixTimeStamp']==1]\n",
        "  norm_visitor_logs = visit[visit['UnixTimeStamp']==0]\n",
        "\n",
        "  # converting Unix time stamp to datetime\n",
        "  unix_visitor_logs['VisitDateTime'] = unix_visitor_logs['VisitDateTime'].apply(lambda x : x[:13])\n",
        "  unix_visitor_logs['VisitDateTime'] = pd.to_datetime(unix_visitor_logs['VisitDateTime'],unit='ms')\n",
        "\n",
        "  norm_visitor_logs['VisitDateTime'] = pd.to_datetime(norm_visitor_logs['VisitDateTime'])\n",
        "\n",
        "  visit = pd.concat([unix_visitor_logs,norm_visitor_logs])\n",
        "\n",
        "  #visitor_logs['ProductID'] = visitor_logs['ProductID'].fillna('Product101')\n",
        "  visit['Activity'] = visit['Activity'].fillna('UNKNOWN')\n",
        "  visit = visit.drop(['UnixTimeStamp'],axis=1)\n",
        "\n",
        "  visit['Date'] = visit['VisitDateTime'].dt.date\n",
        "\n",
        "  # creating separate column for click & pageloads\n",
        "  visit['click'] = visit['Activity'].apply(lambda x : 1 if (x=='CLICK') else 0)\n",
        "  visit['pageload'] = visit['Activity'].apply(lambda x : 1 if (x=='PAGELOAD')|(x=='UNKNOWN') else 0)\n",
        "\n",
        "  current_date = max(visit['VisitDateTime']).date()\n",
        "\n",
        "  \n",
        "  prev_7_date = current_date-timedelta(days=7)\n",
        "  prev_15_date = current_date-timedelta(days=15)\n",
        "\n",
        "  # 7 day dataframe\n",
        "  last_7_df = visit[visit['Date']>prev_7_date]\n",
        "  # 15 day dataframe\n",
        "  last_15_df = visit[visit['Date']>prev_15_date]\n",
        "\n",
        "  last_7_day_click = pd.DataFrame(last_7_df.groupby(['UserID'])['click'].sum()).reset_index()\n",
        "  final = final.merge(last_7_day_click,how='left',left_on='UserID',right_on='UserID')\n",
        "\n",
        "  \"\"\"Pageloads_last_7_days\"\"\"\n",
        "  last_7_day_pageload = pd.DataFrame(last_7_df.groupby(['UserID'])['pageload'].sum()).reset_index()\n",
        "  final = final.merge(last_7_day_pageload,how='left',left_on='UserID',right_on='UserID')\n",
        "\n",
        "  \"\"\"No_of_days_Visited_7_Days\"\"\"\t\n",
        "  last_7_day_visited = pd.DataFrame(last_7_df.groupby('UserID')['Date'].nunique()).reset_index()\n",
        "  final = final.merge(last_7_day_visited,how='left',left_on='UserID',right_on='UserID')\n",
        "\n",
        "  \"\"\"No_Of_Products_Viewed_15_Days\"\"\"\n",
        "  last_15_day_products = pd.DataFrame(last_15_df.groupby(['UserID'])['ProductID'].nunique(dropna=True)).reset_index()\n",
        "  final = final.merge(last_15_day_products,how='left',left_on='UserID',right_on='UserID')\n",
        "\n",
        "  \"\"\"User_Vintage\"\"\"\n",
        "  user['Signup Date'] = pd.to_datetime(user['Signup Date'])\n",
        "  user['Signup_date'] = user['Signup Date'].dt.date\n",
        "  user['Signup_date']=(current_date-user['Signup_date'])\n",
        "\n",
        "  user['Signup_date'] = user['Signup_date'].dt.total_seconds()/86400\n",
        "  final = final.merge(user,how='left',left_on='UserID',right_on='UserID')\n",
        "\n",
        "  \"\"\"Most_Viewed_product_15_Days\"\"\"\n",
        "  product_df = last_15_df.groupby(['UserID','ProductID'])['pageload'].count().unstack()\n",
        "  product_df['max_product']=product_df.idxmax(axis=1)\n",
        "  product_df=product_df['max_product']\n",
        "  last_15_day_max_products = pd.DataFrame(product_df.reset_index())\n",
        "  final = final.merge(last_15_day_max_products,how='left',left_on='UserID',right_on='UserID')\n",
        "\n",
        "\n",
        "  \"\"\"Recently_Viewed_Product\"\"\"\n",
        "  page_load_visitor_logs=visit[visit['pageload']==1]\n",
        "  #page_load_visitor_logs['ProductID']=page_load_visitor_logs['ProductID'].fillna('PRODUCT101')\n",
        "  page_load_visitor_logs.sort_values(by=['VisitDateTime'],inplace=True)\n",
        "  product_recent=page_load_visitor_logs.loc[page_load_visitor_logs.groupby('UserID').VisitDateTime.idxmax()]\n",
        "  product_recent=product_recent[['UserID','ProductID']]\n",
        "  final = final.merge(product_recent,how='left',left_on='UserID',right_on='UserID')\n",
        "\n",
        "  final['No_of_days_Visited_7_Days']=final['Date']\n",
        "  final['No_Of_Products_Viewed_15_Days']=final['ProductID_x']\n",
        "  final['User_Vintage']=final['Signup_date'].astype('int')\n",
        "  final['Most_Viewed_product_15_Days']=final['max_product']\n",
        "  final['Most_Active_OS']=final['most_used']\n",
        "  final['Recently_Viewed_Product']=final['ProductID_y']\n",
        "  final['Pageloads_last_7_days']=final['pageload']\n",
        "  final['Clicks_last_7_days']=final['click']\n",
        "\n",
        "  final = final.drop(['click', 'pageload', 'Date', 'ProductID_x','Signup Date', 'User Segment', 'Signup_date', 'max_product','most_used', 'ProductID_y'],axis=1)\n",
        "\n",
        "  final = final.set_index('UserID')\n",
        "\n",
        "  #visit['OS']=visit['OS'].map({'ANDROID':'Android', 'WINDOWS':'Windows', 'MAC OS X':'Mac OS X', 'LINUX':'Linux', 'UBUNTU':'Ubuntu', 'IOS':'iOS','CHROME OS':'Chrome OS', 'FEDORA':'Fedora', 'TIZEN':'Tizen'})\n",
        "\n",
        "  final['Most_Viewed_product_15_Days']=final['Most_Viewed_product_15_Days'].fillna('Product101')\n",
        "  final['Recently_Viewed_Product']=final['Recently_Viewed_Product'].fillna('Product101')\n",
        "\n",
        "  final['Most_Viewed_product_15_Days']=final['Most_Viewed_product_15_Days'].str.upper()\n",
        "  final['Recently_Viewed_Product']=final['Recently_Viewed_Product'].str.upper()\n",
        "\n",
        "  final.fillna(0,inplace=True)\n",
        "\n",
        "  final.to_csv('output.csv')\n",
        "  return final"
      ],
      "execution_count": null,
      "outputs": []
    },
    {
      "cell_type": "code",
      "metadata": {
        "id": "5UIM1PApbtHu"
      },
      "source": [
        "a,b,c = 2018,5,7 # minimum date in dataframe\n",
        "df = ETL_pipeline(visitor_logs,user_table,a,b,c)"
      ],
      "execution_count": null,
      "outputs": []
    },
    {
      "cell_type": "markdown",
      "metadata": {
        "id": "WlE4rTYdX02v"
      },
      "source": [
        "# Output file"
      ]
    },
    {
      "cell_type": "code",
      "metadata": {
        "id": "a-kue3HgX6Ro",
        "colab": {
          "base_uri": "https://localhost:8080/",
          "height": 245
        },
        "outputId": "2c0c6c51-3815-494d-de95-9ea4e473c730"
      },
      "source": [
        "df.head()"
      ],
      "execution_count": null,
      "outputs": [
        {
          "output_type": "execute_result",
          "data": {
            "text/html": [
              "<div>\n",
              "<style scoped>\n",
              "    .dataframe tbody tr th:only-of-type {\n",
              "        vertical-align: middle;\n",
              "    }\n",
              "\n",
              "    .dataframe tbody tr th {\n",
              "        vertical-align: top;\n",
              "    }\n",
              "\n",
              "    .dataframe thead th {\n",
              "        text-align: right;\n",
              "    }\n",
              "</style>\n",
              "<table border=\"1\" class=\"dataframe\">\n",
              "  <thead>\n",
              "    <tr style=\"text-align: right;\">\n",
              "      <th></th>\n",
              "      <th>No_of_days_Visited_7_Days</th>\n",
              "      <th>No_Of_Products_Viewed_15_Days</th>\n",
              "      <th>User_Vintage</th>\n",
              "      <th>Most_Viewed_product_15_Days</th>\n",
              "      <th>Most_Active_OS</th>\n",
              "      <th>Recently_Viewed_Product</th>\n",
              "      <th>Pageloads_last_7_days</th>\n",
              "      <th>Clicks_last_7_days</th>\n",
              "    </tr>\n",
              "    <tr>\n",
              "      <th>UserID</th>\n",
              "      <th></th>\n",
              "      <th></th>\n",
              "      <th></th>\n",
              "      <th></th>\n",
              "      <th></th>\n",
              "      <th></th>\n",
              "      <th></th>\n",
              "      <th></th>\n",
              "    </tr>\n",
              "  </thead>\n",
              "  <tbody>\n",
              "    <tr>\n",
              "      <th>U100002</th>\n",
              "      <td>0.0</td>\n",
              "      <td>2.0</td>\n",
              "      <td>52</td>\n",
              "      <td>PR100258</td>\n",
              "      <td>Android</td>\n",
              "      <td>PR100258</td>\n",
              "      <td>0.0</td>\n",
              "      <td>0.0</td>\n",
              "    </tr>\n",
              "    <tr>\n",
              "      <th>U100003</th>\n",
              "      <td>1.0</td>\n",
              "      <td>2.0</td>\n",
              "      <td>1020</td>\n",
              "      <td>PR100079</td>\n",
              "      <td>Windows</td>\n",
              "      <td>PR100079</td>\n",
              "      <td>1.0</td>\n",
              "      <td>2.0</td>\n",
              "    </tr>\n",
              "    <tr>\n",
              "      <th>U100004</th>\n",
              "      <td>1.0</td>\n",
              "      <td>15.0</td>\n",
              "      <td>340</td>\n",
              "      <td>PR100355</td>\n",
              "      <td>Windows</td>\n",
              "      <td>PRODUCT101</td>\n",
              "      <td>1.0</td>\n",
              "      <td>0.0</td>\n",
              "    </tr>\n",
              "    <tr>\n",
              "      <th>U100005</th>\n",
              "      <td>1.0</td>\n",
              "      <td>3.0</td>\n",
              "      <td>680</td>\n",
              "      <td>PR100234</td>\n",
              "      <td>Android</td>\n",
              "      <td>PR100234</td>\n",
              "      <td>2.0</td>\n",
              "      <td>0.0</td>\n",
              "    </tr>\n",
              "    <tr>\n",
              "      <th>U100006</th>\n",
              "      <td>1.0</td>\n",
              "      <td>1.0</td>\n",
              "      <td>54</td>\n",
              "      <td>PR101111</td>\n",
              "      <td>Android</td>\n",
              "      <td>PR101111</td>\n",
              "      <td>1.0</td>\n",
              "      <td>0.0</td>\n",
              "    </tr>\n",
              "  </tbody>\n",
              "</table>\n",
              "</div>"
            ],
            "text/plain": [
              "         No_of_days_Visited_7_Days  No_Of_Products_Viewed_15_Days  \\\n",
              "UserID                                                              \n",
              "U100002                        0.0                            2.0   \n",
              "U100003                        1.0                            2.0   \n",
              "U100004                        1.0                           15.0   \n",
              "U100005                        1.0                            3.0   \n",
              "U100006                        1.0                            1.0   \n",
              "\n",
              "         User_Vintage Most_Viewed_product_15_Days Most_Active_OS  \\\n",
              "UserID                                                             \n",
              "U100002            52                    PR100258        Android   \n",
              "U100003          1020                    PR100079        Windows   \n",
              "U100004           340                    PR100355        Windows   \n",
              "U100005           680                    PR100234        Android   \n",
              "U100006            54                    PR101111        Android   \n",
              "\n",
              "        Recently_Viewed_Product  Pageloads_last_7_days  Clicks_last_7_days  \n",
              "UserID                                                                      \n",
              "U100002                PR100258                    0.0                 0.0  \n",
              "U100003                PR100079                    1.0                 2.0  \n",
              "U100004              PRODUCT101                    1.0                 0.0  \n",
              "U100005                PR100234                    2.0                 0.0  \n",
              "U100006                PR101111                    1.0                 0.0  "
            ]
          },
          "metadata": {
            "tags": []
          },
          "execution_count": 52
        }
      ]
    }
  ]
}